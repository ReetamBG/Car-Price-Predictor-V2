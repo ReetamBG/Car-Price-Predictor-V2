{
 "cells": [
  {
   "cell_type": "code",
   "execution_count": null,
   "id": "f182516a-00e7-4bb1-be0a-6100de306f4b",
   "metadata": {
    "ExecuteTime": {
     "end_time": "2025-02-07T16:54:30.099065Z",
     "start_time": "2025-02-07T16:54:30.096949Z"
    }
   },
   "outputs": [],
   "source": [
    "import numpy as np\n",
    "import pandas as pd\n",
    "import matplotlib.pyplot as plt\n",
    "import seaborn as sns"
   ]
  },
  {
   "cell_type": "markdown",
   "id": "1a8e809f",
   "metadata": {},
   "source": [
    "Dataset Link : https://www.kaggle.com/datasets/manishkr1754/cardekho-used-car-data"
   ]
  },
  {
   "cell_type": "markdown",
   "id": "192ab85b",
   "metadata": {},
   "source": [
    "### Data Description (Feature Information)\n",
    "\n",
    "- car_name: Car's Full name, which includes brand and specific model name.\n",
    "- brand: Brand Name of the particular car.\n",
    "- model: Exact model name of the car of a particular brand.\n",
    "- seller_type: Which Type of seller is selling the used car\n",
    "- fuel_type: Fuel used in the used car, which was put up on sale.\n",
    "- transmission_type: Transmission used in the used car, which was put on sale.\n",
    "- vehicle_age: The count of years since car was bought.\n",
    "- mileage: It is the number of kilometer the car runs per litre.\n",
    "- engine: It is the engine capacity in cc(cubic centimeters)\n",
    "- max_power: Max power it produces in BHP.\n",
    "- seats: Total number of seats in car.\n",
    "- selling_price: The sale price which was put up on website.\n"
   ]
  },
  {
   "cell_type": "code",
   "execution_count": 3,
   "id": "4e0469a0",
   "metadata": {
    "ExecuteTime": {
     "end_time": "2025-02-07T16:54:34.880178Z",
     "start_time": "2025-02-07T16:54:34.838660Z"
    }
   },
   "outputs": [
    {
     "data": {
      "text/html": [
       "<div>\n",
       "<style scoped>\n",
       "    .dataframe tbody tr th:only-of-type {\n",
       "        vertical-align: middle;\n",
       "    }\n",
       "\n",
       "    .dataframe tbody tr th {\n",
       "        vertical-align: top;\n",
       "    }\n",
       "\n",
       "    .dataframe thead th {\n",
       "        text-align: right;\n",
       "    }\n",
       "</style>\n",
       "<table border=\"1\" class=\"dataframe\">\n",
       "  <thead>\n",
       "    <tr style=\"text-align: right;\">\n",
       "      <th></th>\n",
       "      <th>car_name</th>\n",
       "      <th>brand</th>\n",
       "      <th>model</th>\n",
       "      <th>vehicle_age</th>\n",
       "      <th>km_driven</th>\n",
       "      <th>seller_type</th>\n",
       "      <th>fuel_type</th>\n",
       "      <th>transmission_type</th>\n",
       "      <th>mileage</th>\n",
       "      <th>engine</th>\n",
       "      <th>max_power</th>\n",
       "      <th>seats</th>\n",
       "      <th>selling_price</th>\n",
       "    </tr>\n",
       "  </thead>\n",
       "  <tbody>\n",
       "    <tr>\n",
       "      <th>0</th>\n",
       "      <td>Maruti Alto</td>\n",
       "      <td>Maruti</td>\n",
       "      <td>Alto</td>\n",
       "      <td>9</td>\n",
       "      <td>120000</td>\n",
       "      <td>Individual</td>\n",
       "      <td>Petrol</td>\n",
       "      <td>Manual</td>\n",
       "      <td>19.70</td>\n",
       "      <td>796</td>\n",
       "      <td>46.30</td>\n",
       "      <td>5</td>\n",
       "      <td>120000</td>\n",
       "    </tr>\n",
       "    <tr>\n",
       "      <th>1</th>\n",
       "      <td>Hyundai Grand</td>\n",
       "      <td>Hyundai</td>\n",
       "      <td>Grand</td>\n",
       "      <td>5</td>\n",
       "      <td>20000</td>\n",
       "      <td>Individual</td>\n",
       "      <td>Petrol</td>\n",
       "      <td>Manual</td>\n",
       "      <td>18.90</td>\n",
       "      <td>1197</td>\n",
       "      <td>82.00</td>\n",
       "      <td>5</td>\n",
       "      <td>550000</td>\n",
       "    </tr>\n",
       "    <tr>\n",
       "      <th>2</th>\n",
       "      <td>Hyundai i20</td>\n",
       "      <td>Hyundai</td>\n",
       "      <td>i20</td>\n",
       "      <td>11</td>\n",
       "      <td>60000</td>\n",
       "      <td>Individual</td>\n",
       "      <td>Petrol</td>\n",
       "      <td>Manual</td>\n",
       "      <td>17.00</td>\n",
       "      <td>1197</td>\n",
       "      <td>80.00</td>\n",
       "      <td>5</td>\n",
       "      <td>215000</td>\n",
       "    </tr>\n",
       "    <tr>\n",
       "      <th>3</th>\n",
       "      <td>Maruti Alto</td>\n",
       "      <td>Maruti</td>\n",
       "      <td>Alto</td>\n",
       "      <td>9</td>\n",
       "      <td>37000</td>\n",
       "      <td>Individual</td>\n",
       "      <td>Petrol</td>\n",
       "      <td>Manual</td>\n",
       "      <td>20.92</td>\n",
       "      <td>998</td>\n",
       "      <td>67.10</td>\n",
       "      <td>5</td>\n",
       "      <td>226000</td>\n",
       "    </tr>\n",
       "    <tr>\n",
       "      <th>4</th>\n",
       "      <td>Ford Ecosport</td>\n",
       "      <td>Ford</td>\n",
       "      <td>Ecosport</td>\n",
       "      <td>6</td>\n",
       "      <td>30000</td>\n",
       "      <td>Dealer</td>\n",
       "      <td>Diesel</td>\n",
       "      <td>Manual</td>\n",
       "      <td>22.77</td>\n",
       "      <td>1498</td>\n",
       "      <td>98.59</td>\n",
       "      <td>5</td>\n",
       "      <td>570000</td>\n",
       "    </tr>\n",
       "  </tbody>\n",
       "</table>\n",
       "</div>"
      ],
      "text/plain": [
       "        car_name    brand     model  vehicle_age  km_driven seller_type  \\\n",
       "0    Maruti Alto   Maruti      Alto            9     120000  Individual   \n",
       "1  Hyundai Grand  Hyundai     Grand            5      20000  Individual   \n",
       "2    Hyundai i20  Hyundai       i20           11      60000  Individual   \n",
       "3    Maruti Alto   Maruti      Alto            9      37000  Individual   \n",
       "4  Ford Ecosport     Ford  Ecosport            6      30000      Dealer   \n",
       "\n",
       "  fuel_type transmission_type  mileage  engine  max_power  seats  \\\n",
       "0    Petrol            Manual    19.70     796      46.30      5   \n",
       "1    Petrol            Manual    18.90    1197      82.00      5   \n",
       "2    Petrol            Manual    17.00    1197      80.00      5   \n",
       "3    Petrol            Manual    20.92     998      67.10      5   \n",
       "4    Diesel            Manual    22.77    1498      98.59      5   \n",
       "\n",
       "   selling_price  \n",
       "0         120000  \n",
       "1         550000  \n",
       "2         215000  \n",
       "3         226000  \n",
       "4         570000  "
      ]
     },
     "execution_count": 3,
     "metadata": {},
     "output_type": "execute_result"
    }
   ],
   "source": [
    "df = pd.read_csv(\"./data/cardekho_dataset.csv\").iloc[:, 1:]\n",
    "df.head()"
   ]
  },
  {
   "cell_type": "markdown",
   "id": "30f628ef",
   "metadata": {},
   "source": [
    "### Basic info about the data"
   ]
  },
  {
   "cell_type": "code",
   "execution_count": 4,
   "id": "8154ab05",
   "metadata": {
    "ExecuteTime": {
     "end_time": "2025-02-07T16:54:35.860676Z",
     "start_time": "2025-02-07T16:54:35.857569Z"
    }
   },
   "outputs": [
    {
     "data": {
      "text/plain": [
       "(15411, 13)"
      ]
     },
     "execution_count": 4,
     "metadata": {},
     "output_type": "execute_result"
    }
   ],
   "source": [
    "df.shape"
   ]
  },
  {
   "cell_type": "code",
   "execution_count": 5,
   "id": "ec32f55a",
   "metadata": {},
   "outputs": [
    {
     "data": {
      "text/plain": [
       "car_name             0\n",
       "brand                0\n",
       "model                0\n",
       "vehicle_age          0\n",
       "km_driven            0\n",
       "seller_type          0\n",
       "fuel_type            0\n",
       "transmission_type    0\n",
       "mileage              0\n",
       "engine               0\n",
       "max_power            0\n",
       "seats                0\n",
       "selling_price        0\n",
       "dtype: int64"
      ]
     },
     "execution_count": 5,
     "metadata": {},
     "output_type": "execute_result"
    }
   ],
   "source": [
    "df.isnull().sum()"
   ]
  },
  {
   "cell_type": "code",
   "execution_count": 6,
   "id": "7eb39734",
   "metadata": {},
   "outputs": [
    {
     "data": {
      "text/plain": [
       "np.int64(167)"
      ]
     },
     "execution_count": 6,
     "metadata": {},
     "output_type": "execute_result"
    }
   ],
   "source": [
    "df.duplicated().sum()"
   ]
  },
  {
   "cell_type": "code",
   "execution_count": 7,
   "id": "20e796b5",
   "metadata": {
    "ExecuteTime": {
     "end_time": "2025-02-07T16:54:36.526810Z",
     "start_time": "2025-02-07T16:54:36.518009Z"
    }
   },
   "outputs": [
    {
     "name": "stdout",
     "output_type": "stream",
     "text": [
      "<class 'pandas.core.frame.DataFrame'>\n",
      "RangeIndex: 15411 entries, 0 to 15410\n",
      "Data columns (total 13 columns):\n",
      " #   Column             Non-Null Count  Dtype  \n",
      "---  ------             --------------  -----  \n",
      " 0   car_name           15411 non-null  object \n",
      " 1   brand              15411 non-null  object \n",
      " 2   model              15411 non-null  object \n",
      " 3   vehicle_age        15411 non-null  int64  \n",
      " 4   km_driven          15411 non-null  int64  \n",
      " 5   seller_type        15411 non-null  object \n",
      " 6   fuel_type          15411 non-null  object \n",
      " 7   transmission_type  15411 non-null  object \n",
      " 8   mileage            15411 non-null  float64\n",
      " 9   engine             15411 non-null  int64  \n",
      " 10  max_power          15411 non-null  float64\n",
      " 11  seats              15411 non-null  int64  \n",
      " 12  selling_price      15411 non-null  int64  \n",
      "dtypes: float64(2), int64(5), object(6)\n",
      "memory usage: 1.5+ MB\n"
     ]
    }
   ],
   "source": [
    "df.info()"
   ]
  },
  {
   "cell_type": "code",
   "execution_count": 8,
   "id": "52c657c2",
   "metadata": {},
   "outputs": [],
   "source": [
    "# Dropping duplicate values\n",
    "\n",
    "df.drop_duplicates(inplace=True)"
   ]
  },
  {
   "cell_type": "code",
   "execution_count": 9,
   "id": "a516620b",
   "metadata": {
    "ExecuteTime": {
     "end_time": "2025-02-07T16:54:37.554594Z",
     "start_time": "2025-02-07T16:54:37.535808Z"
    }
   },
   "outputs": [
    {
     "data": {
      "text/html": [
       "<div>\n",
       "<style scoped>\n",
       "    .dataframe tbody tr th:only-of-type {\n",
       "        vertical-align: middle;\n",
       "    }\n",
       "\n",
       "    .dataframe tbody tr th {\n",
       "        vertical-align: top;\n",
       "    }\n",
       "\n",
       "    .dataframe thead th {\n",
       "        text-align: right;\n",
       "    }\n",
       "</style>\n",
       "<table border=\"1\" class=\"dataframe\">\n",
       "  <thead>\n",
       "    <tr style=\"text-align: right;\">\n",
       "      <th></th>\n",
       "      <th>vehicle_age</th>\n",
       "      <th>km_driven</th>\n",
       "      <th>mileage</th>\n",
       "      <th>engine</th>\n",
       "      <th>max_power</th>\n",
       "      <th>seats</th>\n",
       "      <th>selling_price</th>\n",
       "    </tr>\n",
       "  </thead>\n",
       "  <tbody>\n",
       "    <tr>\n",
       "      <th>count</th>\n",
       "      <td>15244.000000</td>\n",
       "      <td>1.524400e+04</td>\n",
       "      <td>15244.000000</td>\n",
       "      <td>15244.000000</td>\n",
       "      <td>15244.000000</td>\n",
       "      <td>15244.000000</td>\n",
       "      <td>1.524400e+04</td>\n",
       "    </tr>\n",
       "    <tr>\n",
       "      <th>mean</th>\n",
       "      <td>6.041131</td>\n",
       "      <td>5.563958e+04</td>\n",
       "      <td>19.697333</td>\n",
       "      <td>1486.171543</td>\n",
       "      <td>100.607652</td>\n",
       "      <td>5.326161</td>\n",
       "      <td>7.747014e+05</td>\n",
       "    </tr>\n",
       "    <tr>\n",
       "      <th>std</th>\n",
       "      <td>3.016228</td>\n",
       "      <td>5.176630e+04</td>\n",
       "      <td>4.169307</td>\n",
       "      <td>520.419390</td>\n",
       "      <td>42.915687</td>\n",
       "      <td>0.808760</td>\n",
       "      <td>8.946761e+05</td>\n",
       "    </tr>\n",
       "    <tr>\n",
       "      <th>min</th>\n",
       "      <td>0.000000</td>\n",
       "      <td>1.000000e+02</td>\n",
       "      <td>4.000000</td>\n",
       "      <td>793.000000</td>\n",
       "      <td>38.400000</td>\n",
       "      <td>0.000000</td>\n",
       "      <td>4.000000e+04</td>\n",
       "    </tr>\n",
       "    <tr>\n",
       "      <th>25%</th>\n",
       "      <td>4.000000</td>\n",
       "      <td>3.000000e+04</td>\n",
       "      <td>17.000000</td>\n",
       "      <td>1197.000000</td>\n",
       "      <td>74.000000</td>\n",
       "      <td>5.000000</td>\n",
       "      <td>3.850000e+05</td>\n",
       "    </tr>\n",
       "    <tr>\n",
       "      <th>50%</th>\n",
       "      <td>6.000000</td>\n",
       "      <td>5.000000e+04</td>\n",
       "      <td>19.670000</td>\n",
       "      <td>1248.000000</td>\n",
       "      <td>88.500000</td>\n",
       "      <td>5.000000</td>\n",
       "      <td>5.590000e+05</td>\n",
       "    </tr>\n",
       "    <tr>\n",
       "      <th>75%</th>\n",
       "      <td>8.000000</td>\n",
       "      <td>7.000000e+04</td>\n",
       "      <td>22.700000</td>\n",
       "      <td>1582.000000</td>\n",
       "      <td>117.300000</td>\n",
       "      <td>5.000000</td>\n",
       "      <td>8.250000e+05</td>\n",
       "    </tr>\n",
       "    <tr>\n",
       "      <th>max</th>\n",
       "      <td>29.000000</td>\n",
       "      <td>3.800000e+06</td>\n",
       "      <td>33.540000</td>\n",
       "      <td>6592.000000</td>\n",
       "      <td>626.000000</td>\n",
       "      <td>9.000000</td>\n",
       "      <td>3.950000e+07</td>\n",
       "    </tr>\n",
       "  </tbody>\n",
       "</table>\n",
       "</div>"
      ],
      "text/plain": [
       "        vehicle_age     km_driven       mileage        engine     max_power  \\\n",
       "count  15244.000000  1.524400e+04  15244.000000  15244.000000  15244.000000   \n",
       "mean       6.041131  5.563958e+04     19.697333   1486.171543    100.607652   \n",
       "std        3.016228  5.176630e+04      4.169307    520.419390     42.915687   \n",
       "min        0.000000  1.000000e+02      4.000000    793.000000     38.400000   \n",
       "25%        4.000000  3.000000e+04     17.000000   1197.000000     74.000000   \n",
       "50%        6.000000  5.000000e+04     19.670000   1248.000000     88.500000   \n",
       "75%        8.000000  7.000000e+04     22.700000   1582.000000    117.300000   \n",
       "max       29.000000  3.800000e+06     33.540000   6592.000000    626.000000   \n",
       "\n",
       "              seats  selling_price  \n",
       "count  15244.000000   1.524400e+04  \n",
       "mean       5.326161   7.747014e+05  \n",
       "std        0.808760   8.946761e+05  \n",
       "min        0.000000   4.000000e+04  \n",
       "25%        5.000000   3.850000e+05  \n",
       "50%        5.000000   5.590000e+05  \n",
       "75%        5.000000   8.250000e+05  \n",
       "max        9.000000   3.950000e+07  "
      ]
     },
     "execution_count": 9,
     "metadata": {},
     "output_type": "execute_result"
    }
   ],
   "source": [
    "df.describe()"
   ]
  },
  {
   "cell_type": "code",
   "execution_count": 10,
   "id": "451ecc7d",
   "metadata": {},
   "outputs": [
    {
     "data": {
      "text/plain": [
       "car_name              121\n",
       "brand                  32\n",
       "model                 120\n",
       "vehicle_age            24\n",
       "km_driven            3688\n",
       "seller_type             3\n",
       "fuel_type               5\n",
       "transmission_type       2\n",
       "mileage               411\n",
       "engine                110\n",
       "max_power             342\n",
       "seats                   8\n",
       "selling_price        1086\n",
       "dtype: int64"
      ]
     },
     "execution_count": 10,
     "metadata": {},
     "output_type": "execute_result"
    }
   ],
   "source": [
    "df.nunique()"
   ]
  },
  {
   "cell_type": "markdown",
   "id": "bad85592",
   "metadata": {},
   "source": [
    "### Inference\n",
    "\n",
    "> STRUCTURE\n",
    ">- 15411 rows, 13 columns\n",
    ">- No null values\n",
    ">- 167 duplicate rows\n",
    "\n",
    "> BASIC COLUMN INFO\n",
    ">- Categorical Columns -  brand, model, seller_type, fuel_type, transmission_type\n",
    ">- Numerical Columns - vehicle_age, kms_driven, mileage, engine, max_power, seats\n",
    ">- Target Column - selling_price\n",
    "\n",
    "> **IMPORTANT**\n",
    ">- car_name has too many unique values to encode as categorical features. Better use it to just extract the model and brand \n",
    ">- model also has too many unique values ... gotta see what can be done\n",
    ">   - Maybe we can try frequnecy encoding or target guided encoding\n"
   ]
  },
  {
   "cell_type": "markdown",
   "id": "bc46814f",
   "metadata": {},
   "source": [
    "## Univariate Analysis"
   ]
  },
  {
   "cell_type": "markdown",
   "id": "1b32fcdb",
   "metadata": {},
   "source": [
    "### brand"
   ]
  },
  {
   "cell_type": "code",
   "execution_count": 37,
   "id": "4e4a9009",
   "metadata": {},
   "outputs": [
    {
     "name": "stdout",
     "output_type": "stream",
     "text": [
      "Brands:  ['Maruti' 'Hyundai' 'Ford' 'Renault' 'Mini' 'Mercedes-Benz' 'Toyota'\n",
      " 'Volkswagen' 'Honda' 'Mahindra' 'Datsun' 'Tata' 'Kia' 'BMW' 'Audi'\n",
      " 'Land Rover' 'Jaguar' 'MG' 'Isuzu' 'Porsche' 'Skoda' 'Volvo' 'Lexus'\n",
      " 'Jeep' 'Maserati' 'Bentley' 'Nissan' 'ISUZU' 'Ferrari' 'Mercedes-AMG'\n",
      " 'Rolls-Royce' 'Force']\n",
      "Number of brands:  32\n"
     ]
    }
   ],
   "source": [
    "print(\"Brands: \" , df[\"brand\"].unique())\n",
    "print(\"Number of brands: \", df[\"brand\"].nunique())"
   ]
  },
  {
   "cell_type": "code",
   "execution_count": 25,
   "id": "0599b68b",
   "metadata": {},
   "outputs": [
    {
     "data": {
      "text/plain": [
       "brand\n",
       "Maruti           4933\n",
       "Hyundai          2952\n",
       "Honda            1476\n",
       "Mahindra          999\n",
       "Toyota            789\n",
       "Ford              776\n",
       "Volkswagen        614\n",
       "Renault           527\n",
       "BMW               436\n",
       "Tata              421\n",
       "Skoda             333\n",
       "Mercedes-Benz     332\n",
       "Audi              190\n",
       "Datsun            170\n",
       "Jaguar             58\n",
       "Land Rover         50\n",
       "Jeep               41\n",
       "Kia                32\n",
       "Porsche            21\n",
       "Volvo              20\n",
       "MG                 19\n",
       "Mini               17\n",
       "Nissan             11\n",
       "Lexus               9\n",
       "Isuzu               7\n",
       "Bentley             3\n",
       "Maserati            2\n",
       "ISUZU               2\n",
       "Ferrari             1\n",
       "Mercedes-AMG        1\n",
       "Rolls-Royce         1\n",
       "Force               1\n",
       "Name: count, dtype: int64"
      ]
     },
     "execution_count": 25,
     "metadata": {},
     "output_type": "execute_result"
    }
   ],
   "source": [
    "df[\"brand\"].value_counts()"
   ]
  },
  {
   "cell_type": "code",
   "execution_count": 29,
   "id": "94a4beca",
   "metadata": {},
   "outputs": [
    {
     "data": {
      "text/plain": [
       "np.int64(14)"
      ]
     },
     "execution_count": 29,
     "metadata": {},
     "output_type": "execute_result"
    }
   ],
   "source": [
    "(df[\"brand\"].value_counts() < 25).sum()"
   ]
  },
  {
   "cell_type": "markdown",
   "id": "bf8cbb65",
   "metadata": {},
   "source": [
    "### Inference\n",
    "- 32 Brands in total\n",
    "- 14 brands have less than 25 entries in the dataset\n",
    "- They will most likely act as outliers have to check\n",
    "- Either gotta remove them or group them together if they are not outliers lets see"
   ]
  },
  {
   "cell_type": "markdown",
   "id": "724dad5e",
   "metadata": {},
   "source": [
    "### model"
   ]
  },
  {
   "cell_type": "code",
   "execution_count": 35,
   "id": "d3bfec64",
   "metadata": {},
   "outputs": [
    {
     "name": "stdout",
     "output_type": "stream",
     "text": [
      "Models:  ['Alto' 'Grand' 'i20' 'Ecosport' 'Wagon R' 'i10' 'Venue' 'Swift' 'Verna'\n",
      " 'Duster' 'Cooper' 'Ciaz' 'C-Class' 'Innova' 'Baleno' 'Swift Dzire'\n",
      " 'Vento' 'Creta' 'City' 'Bolero' 'Fortuner' 'KWID' 'Amaze' 'Santro'\n",
      " 'XUV500' 'KUV100' 'Ignis' 'RediGO' 'Scorpio' 'Marazzo' 'Aspire' 'Figo'\n",
      " 'Vitara' 'Tiago' 'Polo' 'Seltos' 'Celerio' 'GO' '5' 'CR-V' 'Endeavour'\n",
      " 'KUV' 'Jazz' '3' 'A4' 'Tigor' 'Ertiga' 'Safari' 'Thar' 'Hexa' 'Rover'\n",
      " 'Eeco' 'A6' 'E-Class' 'Q7' 'Z4' '6' 'XF' 'X5' 'Hector' 'Civic' 'D-Max'\n",
      " 'Cayenne' 'X1' 'Rapid' 'Freestyle' 'Superb' 'Nexon' 'XUV300' 'Dzire VXI'\n",
      " 'S90' 'WR-V' 'XL6' 'Triber' 'ES' 'Wrangler' 'Camry' 'Elantra' 'Yaris'\n",
      " 'GL-Class' '7' 'S-Presso' 'Dzire LXI' 'Aura' 'XC' 'Ghibli' 'Continental'\n",
      " 'CR' 'Kicks' 'S-Class' 'Tucson' 'Harrier' 'X3' 'Octavia' 'Compass' 'CLS'\n",
      " 'redi-GO' 'Glanza' 'Macan' 'X4' 'Dzire ZXI' 'XC90' 'F-PACE' 'A8' 'MUX'\n",
      " 'GTC4Lusso' 'GLS' 'X-Trail' 'XE' 'XC60' 'Panamera' 'Alturas' 'Altroz'\n",
      " 'NX' 'Carnival' 'C' 'RX' 'Ghost' 'Quattroporte' 'Gurkha']\n",
      "Number of models:  120\n"
     ]
    }
   ],
   "source": [
    "print(\"Models: \", df[\"model\"].unique())\n",
    "print(\"Number of models: \", df[\"model\"].nunique())"
   ]
  },
  {
   "cell_type": "code",
   "execution_count": 85,
   "id": "26f64e2f",
   "metadata": {},
   "outputs": [
    {
     "data": {
      "text/plain": [
       "model\n",
       "D-Max           6\n",
       "X4              6\n",
       "A8              6\n",
       "XC60            5\n",
       "ES              5\n",
       "S90             4\n",
       "XE              4\n",
       "Carnival        4\n",
       "XC90            4\n",
       "Dzire ZXI       4\n",
       "Continental     3\n",
       "CR              3\n",
       "Panamera        3\n",
       "F-PACE          3\n",
       "Alturas         3\n",
       "X-Trail         3\n",
       "MUX             3\n",
       "Wrangler        2\n",
       "RX              2\n",
       "NX              2\n",
       "Dzire LXI       2\n",
       "Macan           2\n",
       "Ghibli          1\n",
       "Aura            1\n",
       "GTC4Lusso       1\n",
       "Altroz          1\n",
       "C               1\n",
       "Ghost           1\n",
       "Quattroporte    1\n",
       "Gurkha          1\n",
       "Name: count, dtype: int64"
      ]
     },
     "execution_count": 85,
     "metadata": {},
     "output_type": "execute_result"
    }
   ],
   "source": [
    "df[\"model\"].value_counts().tail(30)"
   ]
  },
  {
   "cell_type": "code",
   "execution_count": null,
   "id": "0348a90c",
   "metadata": {},
   "outputs": [
    {
     "data": {
      "text/plain": [
       "np.int64(36)"
      ]
     },
     "execution_count": 81,
     "metadata": {},
     "output_type": "execute_result"
    }
   ],
   "source": [
    "(df[\"model\"].value_counts() < 10).sum()     # 36 models are not so popular"
   ]
  },
  {
   "cell_type": "code",
   "execution_count": 72,
   "id": "8a713b16",
   "metadata": {},
   "outputs": [
    {
     "data": {
      "text/plain": [
       "Index(['CLS', 'Kicks', 'Glanza', 'XL6', 'XC', 'Z4', 'D-Max', 'X4', 'A8',\n",
       "       'XC60', 'ES', 'S90', 'XE', 'Carnival', 'XC90', 'Dzire ZXI',\n",
       "       'Continental', 'CR', 'Panamera', 'F-PACE', 'Alturas', 'X-Trail', 'MUX',\n",
       "       'Wrangler', 'RX', 'NX', 'Dzire LXI', 'Macan', 'Ghibli', 'Aura',\n",
       "       'GTC4Lusso', 'Altroz', 'C', 'Ghost', 'Quattroporte', 'Gurkha'],\n",
       "      dtype='object', name='model')"
      ]
     },
     "execution_count": 72,
     "metadata": {},
     "output_type": "execute_result"
    }
   ],
   "source": [
    "less_popular_models = df[\"model\"].value_counts()[df[\"model\"].value_counts() < 10].index\n",
    "less_popular_models"
   ]
  },
  {
   "cell_type": "code",
   "execution_count": null,
   "id": "97b5bc6f",
   "metadata": {},
   "outputs": [
    {
     "data": {
      "text/plain": [
       "array(['BMW', 'Isuzu', 'Volvo', 'Maruti', 'Lexus', 'Jeep', 'Hyundai',\n",
       "       'Maserati', 'Bentley', 'Honda', 'Nissan', 'Mercedes-Benz',\n",
       "       'Toyota', 'Porsche', 'Jaguar', 'Audi', 'ISUZU', 'Ferrari',\n",
       "       'Mahindra', 'Tata', 'Kia', 'Mercedes-AMG', 'Rolls-Royce', 'Force'],\n",
       "      dtype=object)"
      ]
     },
     "execution_count": 80,
     "metadata": {},
     "output_type": "execute_result"
    }
   ],
   "source": [
    "# checking if the less popular brands have the less poplar models\n",
    "\n",
    "df[df[\"model\"].isin(less_popular_models)][\"brand\"].unique()"
   ]
  },
  {
   "cell_type": "markdown",
   "id": "5da97933",
   "metadata": {},
   "source": [
    "### Inference\n",
    "\n",
    "- Seems like its hard to tell which model to keep\n",
    "- Even models with low appearance in the dataset belong to popular models\n",
    "- To remove or not to remove thy remains the question"
   ]
  },
  {
   "cell_type": "markdown",
   "id": "5a3f9be7",
   "metadata": {},
   "source": [
    "### vehicle_age"
   ]
  },
  {
   "cell_type": "code",
   "execution_count": 97,
   "id": "c0020374",
   "metadata": {},
   "outputs": [],
   "source": [
    "age = df[\"vehicle_age\"]"
   ]
  },
  {
   "cell_type": "code",
   "execution_count": 98,
   "id": "87639c01",
   "metadata": {},
   "outputs": [
    {
     "data": {
      "text/plain": [
       "count    15244.000000\n",
       "mean         6.041131\n",
       "std          3.016228\n",
       "min          0.000000\n",
       "25%          4.000000\n",
       "50%          6.000000\n",
       "75%          8.000000\n",
       "max         29.000000\n",
       "Name: vehicle_age, dtype: float64"
      ]
     },
     "execution_count": 98,
     "metadata": {},
     "output_type": "execute_result"
    }
   ],
   "source": [
    "age.describe()"
   ]
  },
  {
   "cell_type": "code",
   "execution_count": 101,
   "id": "401690db",
   "metadata": {},
   "outputs": [
    {
     "data": {
      "text/plain": [
       "<Axes: xlabel='vehicle_age', ylabel='Density'>"
      ]
     },
     "execution_count": 101,
     "metadata": {},
     "output_type": "execute_result"
    },
    {
     "data": {
      "image/png": "[encoded data removed]",
      "text/plain": [
       "<Figure size 640x480 with 1 Axes>"
      ]
     },
     "metadata": {},
     "output_type": "display_data"
    }
   ],
   "source": [
    "sns.kdeplot(age)"
   ]
  },
  {
   "cell_type": "code",
   "execution_count": 127,
   "id": "8a315ba9",
   "metadata": {},
   "outputs": [
    {
     "data": {
      "text/plain": [
       "<Axes: xlabel='vehicle_age'>"
      ]
     },
     "execution_count": 127,
     "metadata": {},
     "output_type": "execute_result"
    },
    {
     "data": {
      "image/png": "[encoded data removed]",
      "text/plain": [
       "<Figure size 640x480 with 1 Axes>"
      ]
     },
     "metadata": {},
     "output_type": "display_data"
    }
   ],
   "source": [
    "sns.boxenplot(x=age)"
   ]
  },
  {
   "cell_type": "code",
   "execution_count": 117,
   "id": "ae5df314",
   "metadata": {},
   "outputs": [
    {
     "data": {
      "text/html": [
       "<div>\n",
       "<style scoped>\n",
       "    .dataframe tbody tr th:only-of-type {\n",
       "        vertical-align: middle;\n",
       "    }\n",
       "\n",
       "    .dataframe tbody tr th {\n",
       "        vertical-align: top;\n",
       "    }\n",
       "\n",
       "    .dataframe thead th {\n",
       "        text-align: right;\n",
       "    }\n",
       "</style>\n",
       "<table border=\"1\" class=\"dataframe\">\n",
       "  <thead>\n",
       "    <tr style=\"text-align: right;\">\n",
       "      <th></th>\n",
       "      <th>car_name</th>\n",
       "      <th>brand</th>\n",
       "      <th>model</th>\n",
       "      <th>vehicle_age</th>\n",
       "      <th>km_driven</th>\n",
       "      <th>seller_type</th>\n",
       "      <th>fuel_type</th>\n",
       "      <th>transmission_type</th>\n",
       "      <th>mileage</th>\n",
       "      <th>engine</th>\n",
       "      <th>max_power</th>\n",
       "      <th>seats</th>\n",
       "      <th>selling_price</th>\n",
       "    </tr>\n",
       "  </thead>\n",
       "  <tbody>\n",
       "    <tr>\n",
       "      <th>245</th>\n",
       "      <td>Maruti Alto</td>\n",
       "      <td>Maruti</td>\n",
       "      <td>Alto</td>\n",
       "      <td>16</td>\n",
       "      <td>70000</td>\n",
       "      <td>Individual</td>\n",
       "      <td>Petrol</td>\n",
       "      <td>Manual</td>\n",
       "      <td>19.7</td>\n",
       "      <td>796</td>\n",
       "      <td>46.30</td>\n",
       "      <td>5</td>\n",
       "      <td>85000</td>\n",
       "    </tr>\n",
       "    <tr>\n",
       "      <th>344</th>\n",
       "      <td>Maruti Alto</td>\n",
       "      <td>Maruti</td>\n",
       "      <td>Alto</td>\n",
       "      <td>16</td>\n",
       "      <td>5000</td>\n",
       "      <td>Individual</td>\n",
       "      <td>Petrol</td>\n",
       "      <td>Manual</td>\n",
       "      <td>19.7</td>\n",
       "      <td>796</td>\n",
       "      <td>46.30</td>\n",
       "      <td>5</td>\n",
       "      <td>95000</td>\n",
       "    </tr>\n",
       "    <tr>\n",
       "      <th>371</th>\n",
       "      <td>Maruti Alto</td>\n",
       "      <td>Maruti</td>\n",
       "      <td>Alto</td>\n",
       "      <td>16</td>\n",
       "      <td>56700</td>\n",
       "      <td>Individual</td>\n",
       "      <td>Petrol</td>\n",
       "      <td>Manual</td>\n",
       "      <td>19.7</td>\n",
       "      <td>796</td>\n",
       "      <td>46.30</td>\n",
       "      <td>5</td>\n",
       "      <td>75000</td>\n",
       "    </tr>\n",
       "    <tr>\n",
       "      <th>454</th>\n",
       "      <td>Maruti Wagon R</td>\n",
       "      <td>Maruti</td>\n",
       "      <td>Wagon R</td>\n",
       "      <td>16</td>\n",
       "      <td>33650</td>\n",
       "      <td>Individual</td>\n",
       "      <td>Petrol</td>\n",
       "      <td>Manual</td>\n",
       "      <td>18.9</td>\n",
       "      <td>998</td>\n",
       "      <td>67.10</td>\n",
       "      <td>5</td>\n",
       "      <td>110000</td>\n",
       "    </tr>\n",
       "    <tr>\n",
       "      <th>529</th>\n",
       "      <td>Maruti Wagon R</td>\n",
       "      <td>Maruti</td>\n",
       "      <td>Wagon R</td>\n",
       "      <td>17</td>\n",
       "      <td>50000</td>\n",
       "      <td>Individual</td>\n",
       "      <td>Petrol</td>\n",
       "      <td>Manual</td>\n",
       "      <td>18.9</td>\n",
       "      <td>998</td>\n",
       "      <td>67.10</td>\n",
       "      <td>5</td>\n",
       "      <td>62000</td>\n",
       "    </tr>\n",
       "    <tr>\n",
       "      <th>...</th>\n",
       "      <td>...</td>\n",
       "      <td>...</td>\n",
       "      <td>...</td>\n",
       "      <td>...</td>\n",
       "      <td>...</td>\n",
       "      <td>...</td>\n",
       "      <td>...</td>\n",
       "      <td>...</td>\n",
       "      <td>...</td>\n",
       "      <td>...</td>\n",
       "      <td>...</td>\n",
       "      <td>...</td>\n",
       "      <td>...</td>\n",
       "    </tr>\n",
       "    <tr>\n",
       "      <th>14803</th>\n",
       "      <td>Honda CR-V</td>\n",
       "      <td>Honda</td>\n",
       "      <td>CR-V</td>\n",
       "      <td>17</td>\n",
       "      <td>87000</td>\n",
       "      <td>Dealer</td>\n",
       "      <td>Petrol</td>\n",
       "      <td>Automatic</td>\n",
       "      <td>13.7</td>\n",
       "      <td>1997</td>\n",
       "      <td>153.86</td>\n",
       "      <td>5</td>\n",
       "      <td>450000</td>\n",
       "    </tr>\n",
       "    <tr>\n",
       "      <th>14885</th>\n",
       "      <td>Mercedes-Benz E-Class</td>\n",
       "      <td>Mercedes-Benz</td>\n",
       "      <td>E-Class</td>\n",
       "      <td>17</td>\n",
       "      <td>126000</td>\n",
       "      <td>Dealer</td>\n",
       "      <td>Diesel</td>\n",
       "      <td>Automatic</td>\n",
       "      <td>11.0</td>\n",
       "      <td>2987</td>\n",
       "      <td>198.50</td>\n",
       "      <td>5</td>\n",
       "      <td>315000</td>\n",
       "    </tr>\n",
       "    <tr>\n",
       "      <th>14895</th>\n",
       "      <td>Maruti Alto</td>\n",
       "      <td>Maruti</td>\n",
       "      <td>Alto</td>\n",
       "      <td>16</td>\n",
       "      <td>91000</td>\n",
       "      <td>Dealer</td>\n",
       "      <td>Petrol</td>\n",
       "      <td>Manual</td>\n",
       "      <td>19.7</td>\n",
       "      <td>796</td>\n",
       "      <td>46.30</td>\n",
       "      <td>5</td>\n",
       "      <td>125000</td>\n",
       "    </tr>\n",
       "    <tr>\n",
       "      <th>15007</th>\n",
       "      <td>Maruti Wagon R</td>\n",
       "      <td>Maruti</td>\n",
       "      <td>Wagon R</td>\n",
       "      <td>16</td>\n",
       "      <td>50000</td>\n",
       "      <td>Individual</td>\n",
       "      <td>Petrol</td>\n",
       "      <td>Manual</td>\n",
       "      <td>18.9</td>\n",
       "      <td>998</td>\n",
       "      <td>67.10</td>\n",
       "      <td>5</td>\n",
       "      <td>75000</td>\n",
       "    </tr>\n",
       "    <tr>\n",
       "      <th>15329</th>\n",
       "      <td>BMW 3</td>\n",
       "      <td>BMW</td>\n",
       "      <td>3</td>\n",
       "      <td>25</td>\n",
       "      <td>50000</td>\n",
       "      <td>Individual</td>\n",
       "      <td>Petrol</td>\n",
       "      <td>Automatic</td>\n",
       "      <td>11.9</td>\n",
       "      <td>1995</td>\n",
       "      <td>154.00</td>\n",
       "      <td>5</td>\n",
       "      <td>1000000</td>\n",
       "    </tr>\n",
       "  </tbody>\n",
       "</table>\n",
       "<p>64 rows × 13 columns</p>\n",
       "</div>"
      ],
      "text/plain": [
       "                    car_name          brand    model  vehicle_age  km_driven  \\\n",
       "245              Maruti Alto         Maruti     Alto           16      70000   \n",
       "344              Maruti Alto         Maruti     Alto           16       5000   \n",
       "371              Maruti Alto         Maruti     Alto           16      56700   \n",
       "454           Maruti Wagon R         Maruti  Wagon R           16      33650   \n",
       "529           Maruti Wagon R         Maruti  Wagon R           17      50000   \n",
       "...                      ...            ...      ...          ...        ...   \n",
       "14803             Honda CR-V          Honda     CR-V           17      87000   \n",
       "14885  Mercedes-Benz E-Class  Mercedes-Benz  E-Class           17     126000   \n",
       "14895            Maruti Alto         Maruti     Alto           16      91000   \n",
       "15007         Maruti Wagon R         Maruti  Wagon R           16      50000   \n",
       "15329                  BMW 3            BMW        3           25      50000   \n",
       "\n",
       "      seller_type fuel_type transmission_type  mileage  engine  max_power  \\\n",
       "245    Individual    Petrol            Manual     19.7     796      46.30   \n",
       "344    Individual    Petrol            Manual     19.7     796      46.30   \n",
       "371    Individual    Petrol            Manual     19.7     796      46.30   \n",
       "454    Individual    Petrol            Manual     18.9     998      67.10   \n",
       "529    Individual    Petrol            Manual     18.9     998      67.10   \n",
       "...           ...       ...               ...      ...     ...        ...   \n",
       "14803      Dealer    Petrol         Automatic     13.7    1997     153.86   \n",
       "14885      Dealer    Diesel         Automatic     11.0    2987     198.50   \n",
       "14895      Dealer    Petrol            Manual     19.7     796      46.30   \n",
       "15007  Individual    Petrol            Manual     18.9     998      67.10   \n",
       "15329  Individual    Petrol         Automatic     11.9    1995     154.00   \n",
       "\n",
       "       seats  selling_price  \n",
       "245        5          85000  \n",
       "344        5          95000  \n",
       "371        5          75000  \n",
       "454        5         110000  \n",
       "529        5          62000  \n",
       "...      ...            ...  \n",
       "14803      5         450000  \n",
       "14885      5         315000  \n",
       "14895      5         125000  \n",
       "15007      5          75000  \n",
       "15329      5        1000000  \n",
       "\n",
       "[64 rows x 13 columns]"
      ]
     },
     "execution_count": 117,
     "metadata": {},
     "output_type": "execute_result"
    }
   ],
   "source": [
    "df[(age>15)]"
   ]
  },
  {
   "cell_type": "markdown",
   "id": "b7737524",
   "metadata": {},
   "source": [
    "### Inference\n",
    "\n",
    "- doesnt seem logical to keep the cars that are being sold after 15 years \n",
    "- might act as outliers gotta see"
   ]
  },
  {
   "cell_type": "code",
   "execution_count": 122,
   "id": "de2cf175",
   "metadata": {},
   "outputs": [],
   "source": [
    "km = df[\"km_driven\"]"
   ]
  },
  {
   "cell_type": "code",
   "execution_count": 123,
   "id": "fe4d78cc",
   "metadata": {},
   "outputs": [
    {
     "data": {
      "text/plain": [
       "count    1.524400e+04\n",
       "mean     5.563958e+04\n",
       "std      5.176630e+04\n",
       "min      1.000000e+02\n",
       "25%      3.000000e+04\n",
       "50%      5.000000e+04\n",
       "75%      7.000000e+04\n",
       "max      3.800000e+06\n",
       "Name: km_driven, dtype: float64"
      ]
     },
     "execution_count": 123,
     "metadata": {},
     "output_type": "execute_result"
    }
   ],
   "source": [
    "km.describe()"
   ]
  },
  {
   "cell_type": "code",
   "execution_count": 128,
   "id": "31dc67e8",
   "metadata": {},
   "outputs": [
    {
     "data": {
      "text/plain": [
       "<Axes: xlabel='km_driven', ylabel='Density'>"
      ]
     },
     "execution_count": 128,
     "metadata": {},
     "output_type": "execute_result"
    },
    {
     "data": {
      "image/png": "[encoded data removed]",
      "text/plain": [
       "<Figure size 640x480 with 1 Axes>"
      ]
     },
     "metadata": {},
     "output_type": "display_data"
    }
   ],
   "source": [
    "sns.kdeplot(km)"
   ]
  },
  {
   "cell_type": "code",
   "execution_count": 133,
   "id": "569db44a",
   "metadata": {},
   "outputs": [
    {
     "data": {
      "text/plain": [
       "<Axes: xlabel='km_driven'>"
      ]
     },
     "execution_count": 133,
     "metadata": {},
     "output_type": "execute_result"
    },
    {
     "data": {
      "image/png": "[encoded data removed]",
      "text/plain": [
       "<Figure size 640x480 with 1 Axes>"
      ]
     },
     "metadata": {},
     "output_type": "display_data"
    }
   ],
   "source": [
    "sns.boxenplot(x=km)"
   ]
  },
  {
   "cell_type": "code",
   "execution_count": null,
   "id": "c67ab3e7",
   "metadata": {},
   "outputs": [
    {
     "data": {
      "text/plain": [
       "np.int64(85)"
      ]
     },
     "execution_count": 145,
     "metadata": {},
     "output_type": "execute_result"
    }
   ],
   "source": [
    "(km > 0.2 * 1e6).sum()"
   ]
  },
  {
   "cell_type": "code",
   "execution_count": 147,
   "id": "09d39325",
   "metadata": {},
   "outputs": [
    {
     "data": {
      "text/html": [
       "<div>\n",
       "<style scoped>\n",
       "    .dataframe tbody tr th:only-of-type {\n",
       "        vertical-align: middle;\n",
       "    }\n",
       "\n",
       "    .dataframe tbody tr th {\n",
       "        vertical-align: top;\n",
       "    }\n",
       "\n",
       "    .dataframe thead th {\n",
       "        text-align: right;\n",
       "    }\n",
       "</style>\n",
       "<table border=\"1\" class=\"dataframe\">\n",
       "  <thead>\n",
       "    <tr style=\"text-align: right;\">\n",
       "      <th></th>\n",
       "      <th>car_name</th>\n",
       "      <th>brand</th>\n",
       "      <th>model</th>\n",
       "      <th>vehicle_age</th>\n",
       "      <th>km_driven</th>\n",
       "      <th>seller_type</th>\n",
       "      <th>fuel_type</th>\n",
       "      <th>transmission_type</th>\n",
       "      <th>mileage</th>\n",
       "      <th>engine</th>\n",
       "      <th>max_power</th>\n",
       "      <th>seats</th>\n",
       "      <th>selling_price</th>\n",
       "    </tr>\n",
       "  </thead>\n",
       "  <tbody>\n",
       "    <tr>\n",
       "      <th>151</th>\n",
       "      <td>Mahindra Bolero</td>\n",
       "      <td>Mahindra</td>\n",
       "      <td>Bolero</td>\n",
       "      <td>13</td>\n",
       "      <td>220000</td>\n",
       "      <td>Individual</td>\n",
       "      <td>Diesel</td>\n",
       "      <td>Manual</td>\n",
       "      <td>13.60</td>\n",
       "      <td>2523</td>\n",
       "      <td>63.0</td>\n",
       "      <td>7</td>\n",
       "      <td>260000</td>\n",
       "    </tr>\n",
       "    <tr>\n",
       "      <th>249</th>\n",
       "      <td>Volkswagen Polo</td>\n",
       "      <td>Volkswagen</td>\n",
       "      <td>Polo</td>\n",
       "      <td>11</td>\n",
       "      <td>350000</td>\n",
       "      <td>Individual</td>\n",
       "      <td>Petrol</td>\n",
       "      <td>Manual</td>\n",
       "      <td>16.47</td>\n",
       "      <td>1198</td>\n",
       "      <td>73.9</td>\n",
       "      <td>5</td>\n",
       "      <td>173000</td>\n",
       "    </tr>\n",
       "    <tr>\n",
       "      <th>335</th>\n",
       "      <td>Volkswagen Vento</td>\n",
       "      <td>Volkswagen</td>\n",
       "      <td>Vento</td>\n",
       "      <td>10</td>\n",
       "      <td>280000</td>\n",
       "      <td>Individual</td>\n",
       "      <td>Diesel</td>\n",
       "      <td>Manual</td>\n",
       "      <td>20.54</td>\n",
       "      <td>1598</td>\n",
       "      <td>103.6</td>\n",
       "      <td>5</td>\n",
       "      <td>300000</td>\n",
       "    </tr>\n",
       "    <tr>\n",
       "      <th>394</th>\n",
       "      <td>Honda Amaze</td>\n",
       "      <td>Honda</td>\n",
       "      <td>Amaze</td>\n",
       "      <td>8</td>\n",
       "      <td>208000</td>\n",
       "      <td>Individual</td>\n",
       "      <td>Diesel</td>\n",
       "      <td>Manual</td>\n",
       "      <td>25.80</td>\n",
       "      <td>1498</td>\n",
       "      <td>98.6</td>\n",
       "      <td>5</td>\n",
       "      <td>300000</td>\n",
       "    </tr>\n",
       "    <tr>\n",
       "      <th>684</th>\n",
       "      <td>Toyota Innova</td>\n",
       "      <td>Toyota</td>\n",
       "      <td>Innova</td>\n",
       "      <td>8</td>\n",
       "      <td>387000</td>\n",
       "      <td>Individual</td>\n",
       "      <td>Diesel</td>\n",
       "      <td>Manual</td>\n",
       "      <td>12.99</td>\n",
       "      <td>2494</td>\n",
       "      <td>100.6</td>\n",
       "      <td>8</td>\n",
       "      <td>700000</td>\n",
       "    </tr>\n",
       "    <tr>\n",
       "      <th>...</th>\n",
       "      <td>...</td>\n",
       "      <td>...</td>\n",
       "      <td>...</td>\n",
       "      <td>...</td>\n",
       "      <td>...</td>\n",
       "      <td>...</td>\n",
       "      <td>...</td>\n",
       "      <td>...</td>\n",
       "      <td>...</td>\n",
       "      <td>...</td>\n",
       "      <td>...</td>\n",
       "      <td>...</td>\n",
       "      <td>...</td>\n",
       "    </tr>\n",
       "    <tr>\n",
       "      <th>13828</th>\n",
       "      <td>Renault Duster</td>\n",
       "      <td>Renault</td>\n",
       "      <td>Duster</td>\n",
       "      <td>8</td>\n",
       "      <td>250000</td>\n",
       "      <td>Individual</td>\n",
       "      <td>Diesel</td>\n",
       "      <td>Manual</td>\n",
       "      <td>20.45</td>\n",
       "      <td>1461</td>\n",
       "      <td>83.8</td>\n",
       "      <td>5</td>\n",
       "      <td>550000</td>\n",
       "    </tr>\n",
       "    <tr>\n",
       "      <th>13843</th>\n",
       "      <td>Maruti Ciaz</td>\n",
       "      <td>Maruti</td>\n",
       "      <td>Ciaz</td>\n",
       "      <td>4</td>\n",
       "      <td>450003</td>\n",
       "      <td>Dealer</td>\n",
       "      <td>Petrol</td>\n",
       "      <td>Manual</td>\n",
       "      <td>20.73</td>\n",
       "      <td>1373</td>\n",
       "      <td>91.1</td>\n",
       "      <td>5</td>\n",
       "      <td>690000</td>\n",
       "    </tr>\n",
       "    <tr>\n",
       "      <th>15284</th>\n",
       "      <td>Toyota Innova</td>\n",
       "      <td>Toyota</td>\n",
       "      <td>Innova</td>\n",
       "      <td>6</td>\n",
       "      <td>270000</td>\n",
       "      <td>Individual</td>\n",
       "      <td>Diesel</td>\n",
       "      <td>Manual</td>\n",
       "      <td>12.99</td>\n",
       "      <td>2494</td>\n",
       "      <td>100.6</td>\n",
       "      <td>7</td>\n",
       "      <td>1300000</td>\n",
       "    </tr>\n",
       "    <tr>\n",
       "      <th>15325</th>\n",
       "      <td>Honda City</td>\n",
       "      <td>Honda</td>\n",
       "      <td>City</td>\n",
       "      <td>7</td>\n",
       "      <td>220000</td>\n",
       "      <td>Dealer</td>\n",
       "      <td>Diesel</td>\n",
       "      <td>Manual</td>\n",
       "      <td>26.00</td>\n",
       "      <td>1498</td>\n",
       "      <td>98.6</td>\n",
       "      <td>5</td>\n",
       "      <td>550000</td>\n",
       "    </tr>\n",
       "    <tr>\n",
       "      <th>15409</th>\n",
       "      <td>Mahindra XUV500</td>\n",
       "      <td>Mahindra</td>\n",
       "      <td>XUV500</td>\n",
       "      <td>5</td>\n",
       "      <td>3800000</td>\n",
       "      <td>Dealer</td>\n",
       "      <td>Diesel</td>\n",
       "      <td>Manual</td>\n",
       "      <td>16.00</td>\n",
       "      <td>2179</td>\n",
       "      <td>140.0</td>\n",
       "      <td>7</td>\n",
       "      <td>1225000</td>\n",
       "    </tr>\n",
       "  </tbody>\n",
       "</table>\n",
       "<p>85 rows × 13 columns</p>\n",
       "</div>"
      ],
      "text/plain": [
       "               car_name       brand   model  vehicle_age  km_driven  \\\n",
       "151     Mahindra Bolero    Mahindra  Bolero           13     220000   \n",
       "249     Volkswagen Polo  Volkswagen    Polo           11     350000   \n",
       "335    Volkswagen Vento  Volkswagen   Vento           10     280000   \n",
       "394         Honda Amaze       Honda   Amaze            8     208000   \n",
       "684       Toyota Innova      Toyota  Innova            8     387000   \n",
       "...                 ...         ...     ...          ...        ...   \n",
       "13828    Renault Duster     Renault  Duster            8     250000   \n",
       "13843       Maruti Ciaz      Maruti    Ciaz            4     450003   \n",
       "15284     Toyota Innova      Toyota  Innova            6     270000   \n",
       "15325        Honda City       Honda    City            7     220000   \n",
       "15409   Mahindra XUV500    Mahindra  XUV500            5    3800000   \n",
       "\n",
       "      seller_type fuel_type transmission_type  mileage  engine  max_power  \\\n",
       "151    Individual    Diesel            Manual    13.60    2523       63.0   \n",
       "249    Individual    Petrol            Manual    16.47    1198       73.9   \n",
       "335    Individual    Diesel            Manual    20.54    1598      103.6   \n",
       "394    Individual    Diesel            Manual    25.80    1498       98.6   \n",
       "684    Individual    Diesel            Manual    12.99    2494      100.6   \n",
       "...           ...       ...               ...      ...     ...        ...   \n",
       "13828  Individual    Diesel            Manual    20.45    1461       83.8   \n",
       "13843      Dealer    Petrol            Manual    20.73    1373       91.1   \n",
       "15284  Individual    Diesel            Manual    12.99    2494      100.6   \n",
       "15325      Dealer    Diesel            Manual    26.00    1498       98.6   \n",
       "15409      Dealer    Diesel            Manual    16.00    2179      140.0   \n",
       "\n",
       "       seats  selling_price  \n",
       "151        7         260000  \n",
       "249        5         173000  \n",
       "335        5         300000  \n",
       "394        5         300000  \n",
       "684        8         700000  \n",
       "...      ...            ...  \n",
       "13828      5         550000  \n",
       "13843      5         690000  \n",
       "15284      7        1300000  \n",
       "15325      5         550000  \n",
       "15409      7        1225000  \n",
       "\n",
       "[85 rows x 13 columns]"
      ]
     },
     "execution_count": 147,
     "metadata": {},
     "output_type": "execute_result"
    }
   ],
   "source": [
    "df[km > 0.2 * 1e6]"
   ]
  },
  {
   "cell_type": "markdown",
   "id": "6135ac13",
   "metadata": {},
   "source": [
    "### Inference\n",
    "\n",
    "- Seems like there are a lot of outliers\n",
    "- Who even drives their cars for more than 500,000 kms "
   ]
  },
  {
   "cell_type": "markdown",
   "id": "d05e1ac1",
   "metadata": {},
   "source": [
    "### seller_type"
   ]
  },
  {
   "cell_type": "code",
   "execution_count": 149,
   "id": "cc8c0728",
   "metadata": {},
   "outputs": [],
   "source": [
    "seller = df[\"seller_type\"]"
   ]
  },
  {
   "cell_type": "code",
   "execution_count": 151,
   "id": "4326c7df",
   "metadata": {},
   "outputs": [
    {
     "data": {
      "text/plain": [
       "(array(['Individual', 'Dealer', 'Trustmark Dealer'], dtype=object), 3)"
      ]
     },
     "execution_count": 151,
     "metadata": {},
     "output_type": "execute_result"
    }
   ],
   "source": [
    "seller.unique(), seller.nunique()"
   ]
  },
  {
   "cell_type": "code",
   "execution_count": 159,
   "id": "2a57dac4",
   "metadata": {},
   "outputs": [
    {
     "data": {
      "text/plain": [
       "seller_type\n",
       "Dealer              9459\n",
       "Individual          5612\n",
       "Trustmark Dealer     173\n",
       "Name: count, dtype: int64"
      ]
     },
     "execution_count": 159,
     "metadata": {},
     "output_type": "execute_result"
    }
   ],
   "source": [
    "seller.value_counts()"
   ]
  },
  {
   "cell_type": "code",
   "execution_count": 158,
   "id": "aca80c1a",
   "metadata": {},
   "outputs": [
    {
     "data": {
      "text/plain": [
       "<Axes: xlabel='seller_type', ylabel='count'>"
      ]
     },
     "execution_count": 158,
     "metadata": {},
     "output_type": "execute_result"
    },
    {
     "data": {
      "image/png": "[encoded data removed]",
      "text/plain": [
       "<Figure size 640x480 with 1 Axes>"
      ]
     },
     "metadata": {},
     "output_type": "display_data"
    }
   ],
   "source": [
    "sns.barplot(seller.value_counts())"
   ]
  },
  {
   "cell_type": "markdown",
   "id": "cb9bf6e8",
   "metadata": {},
   "source": []
  }
 ],
 "metadata": {
  "kernelspec": {
   "display_name": ".venv",
   "language": "python",
   "name": "python3"
  },
  "language_info": {
   "codemirror_mode": {
    "name": "ipython",
    "version": 3
   },
   "file_extension": ".py",
   "mimetype": "text/x-python",
   "name": "python",
   "nbconvert_exporter": "python",
   "pygments_lexer": "ipython3",
   "version": "3.13.1"
  }
 },
 "nbformat": 4,
 "nbformat_minor": 5
}
